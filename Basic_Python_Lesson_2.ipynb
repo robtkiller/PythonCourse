{
  "nbformat": 4,
  "nbformat_minor": 0,
  "metadata": {
    "colab": {
      "name": "Basic_Python_Lesson_2.ipynb",
      "provenance": [],
      "collapsed_sections": [],
      "toc_visible": true
    },
    "kernelspec": {
      "name": "python3",
      "display_name": "Python 3"
    }
  },
  "cells": [
    {
      "cell_type": "markdown",
      "metadata": {
        "id": "ioK-e32bU6fo",
        "colab_type": "text"
      },
      "source": [
        "# **Lesson 2** - Lists\n",
        "\n",
        "Remember in our last lesson we learned how to **assign** values to variables.  We can assign numbers and **strings** to our variables then do things with them using **operators**.  \n",
        "\n",
        "What if we want to store a whole bunch of values? "
      ]
    },
    {
      "cell_type": "code",
      "metadata": {
        "id": "14mvkLCpVqUW",
        "colab_type": "code",
        "colab": {}
      },
      "source": [
        "my_list = [2, 4, 6, 8, 10]\n",
        "print(my_list)"
      ],
      "execution_count": 0,
      "outputs": []
    },
    {
      "cell_type": "markdown",
      "metadata": {
        "id": "zbTQTpRtV54a",
        "colab_type": "text"
      },
      "source": [
        "We can use **lists**!\n",
        "\n",
        "List store a series of values.  You can tell Python that you're creating list by using `[ ]` when you assign your variable.  Be sure to use comma's to separate your values.\n",
        "\n",
        "You can also pick specific values from the list by using its **index**. An index is the position in the list you want to use.  Python is funny and **starts counting at 0** instead of 1.  "
      ]
    },
    {
      "cell_type": "code",
      "metadata": {
        "id": "qVUs6OU4W4xG",
        "colab_type": "code",
        "colab": {}
      },
      "source": [
        "letters = ['a', 'b', 'c', 'd', 'e', 'f']\n",
        "\n",
        "# Get the 1st letter from our list\n",
        "first_letter = letters[0]\n",
        "print('The 1st letter is:  ' + first_letter)\n",
        "\n",
        "# Get the 2nd letter from our list\n",
        "second_letter = letters[1]\n",
        "print('The 2nd letter is:  ' + second_letter)\n",
        "\n",
        "# Get 2nd through 5th letters\n",
        "middle_letters = letters[1:5]\n",
        "print('The 2nd through 5th letters are:  ' + str(middle_letters))\n",
        "\n"
      ],
      "execution_count": 0,
      "outputs": []
    },
    {
      "cell_type": "markdown",
      "metadata": {
        "id": "dvrWC1PhYSyL",
        "colab_type": "text"
      },
      "source": [
        "Remember from the last lesson that **we can do different things with different types of data**.  There are lots of fun things we can do with lists. "
      ]
    },
    {
      "cell_type": "code",
      "metadata": {
        "id": "J49rESrlaJkP",
        "colab_type": "code",
        "colab": {}
      },
      "source": [
        "letters = ['a', 'b', 'c', 'd', 'e', 'f']\n",
        "\n",
        "# We can add values to the end by appending\n",
        "letters.append('g')\n",
        "print(letters)\n",
        "\n",
        "\n",
        "# Insert a value\n",
        "# We need to tell it 'Where' and 'What' to insert\n",
        "# 0 tells Python to put the 'Z' in the 1st position \n",
        "letters.insert(0, 'Z') \n",
        "print(letters)\n",
        "\n",
        "\n",
        "# Remove a value by deleting\n",
        "# For this we need to tell Python which value to delete\n",
        "# Lets delete the 3rd value:\n",
        "del letters[2]\n",
        "print(letters)\n",
        "\n",
        "# Replace a value.\n",
        "# Just like setting a variable!\n",
        "# Lets replace the 4th value:\n",
        "letters[3] = 'D'\n",
        "print(letters)\n",
        "\n",
        "# We can even sort them into alphabetical order!\n",
        "# Capital letters will come first\n",
        "letters.sort()\n",
        "print(letters)\n",
        "\n",
        "# Sometimes we'll want to know how long the list is:\n",
        "length = len(letters)\n",
        "print('Our list now has {} values.'.format(length))\n"
      ],
      "execution_count": 0,
      "outputs": []
    },
    {
      "cell_type": "markdown",
      "metadata": {
        "id": "83jMO304hDoj",
        "colab_type": "text"
      },
      "source": [
        "## **Activity**\n",
        "\n",
        "Create your own list with the following numbers in the following order:\n",
        "\n",
        "3\n",
        "\n",
        "42\n",
        "\n",
        "25\n",
        "\n",
        "60\n",
        "\n",
        "100\n",
        "\n",
        "4\n",
        "\n",
        "Write some code to answer the following questions: \n",
        "\n",
        "\n",
        "1.   What is the 3rd value times the 5th value?\n",
        "2.   How many values are in the list if we remove 2?\n",
        "3.   What is the 2nd smallest value in the list?\n",
        "\n"
      ]
    },
    {
      "cell_type": "code",
      "metadata": {
        "id": "4TpYad-0jlz0",
        "colab_type": "code",
        "colab": {}
      },
      "source": [
        "# Write your code here! \n",
        "\n",
        "# Problem 1:\n",
        "\n",
        "\n",
        "# Problem 2:\n",
        "\n",
        "\n",
        "# Problem 3:"
      ],
      "execution_count": 0,
      "outputs": []
    }
  ]
}
{
 "cells": [
  {
   "cell_type": "markdown",
   "metadata": {
    "colab_type": "text",
    "id": "yi93xbQkBFpu"
   },
   "source": [
    "# **Lesson 0** - Introduction\n",
    "\n",
    "Welcome to this basic course on programming with Python. \n",
    "\n",
    "We'll be using Google Colab to run our code.  There are two types of cells in Colab, Code and Text.  This is a Text cell and does not contain any code.  Code that you can run will be stored in Code cells.  When you run Code cells, the result (called output) is shown below it."
   ]
  },
  {
   "cell_type": "code",
   "execution_count": 0,
   "metadata": {
    "colab": {},
    "colab_type": "code",
    "id": "nPqsYiHkBtcH"
   },
   "outputs": [],
   "source": [
    "# This is a Code cell\n",
    "# Lines starting with # don't actually run but the next line will!\n",
    "print('Hello, World!')\n",
    "# Click the Run button to left to see what it does!\n"
   ]
  },
  {
   "cell_type": "markdown",
   "metadata": {
    "colab_type": "text",
    "id": "QYLwyWsEDdQN"
   },
   "source": [
    "You just ran a Python program!  So what exactly just happened?  \n",
    "\n",
    "Lines beginning with `#` are called comments.  They are ignored by the computer but are great for explaining things.\n",
    "\n",
    "The `print()` function is used in Python to display text.  So `print('Hello, World!')` tells the computer to display \"Hello, World\"."
   ]
  },
  {
   "cell_type": "markdown",
   "metadata": {
    "colab_type": "text",
    "id": "4hsrbzQkFMgi"
   },
   "source": [
    "## **Activity**\n",
    "Try printing your own message.  Using the Code cell below, write you own Python code to display a message you want to see."
   ]
  },
  {
   "cell_type": "code",
   "execution_count": 0,
   "metadata": {
    "colab": {},
    "colab_type": "code",
    "id": "o8dqAAKPDqfJ"
   },
   "outputs": [],
   "source": [
    "# Click this cell teo get started! \n",
    "# Put your code below and run to see if it works! \n",
    "\n"
   ]
  }
 ],
 "metadata": {
  "colab": {
   "collapsed_sections": [],
   "name": "Basic_Python_Lesson_0.ipynb",
   "provenance": [],
   "toc_visible": true
  },
  "kernelspec": {
   "display_name": "Python 3",
   "language": "python",
   "name": "python3"
  },
  "language_info": {
   "codemirror_mode": {
    "name": "ipython",
    "version": 3
   },
   "file_extension": ".py",
   "mimetype": "text/x-python",
   "name": "python",
   "nbconvert_exporter": "python",
   "pygments_lexer": "ipython3",
   "version": "3.6.4"
  }
 },
 "nbformat": 4,
 "nbformat_minor": 1
}

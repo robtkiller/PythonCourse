{
 "cells": [
  {
   "cell_type": "markdown",
   "metadata": {},
   "source": [
    "# Lesson 4 - Conditions\n",
    "\n",
    "> \"If you ***eat your vegetables*** then you can ***have dessert***.\"\n",
    ">\n",
    "> -***Your Mom (probably)***\n",
    "\n",
    "\n",
    "I'm sure you've heard you mother say this or something similar before.  **If** you do one thing **then** another thing will happen.  This is commonly called a **condition** statement.  Python as well as other languages use conditions to control what our code does.  \n",
    "\n",
    "In our previous lesson, we learned how to **compare variables**.  Let's use this to play a little game!"
   ]
  },
  {
   "cell_type": "code",
   "execution_count": 5,
   "metadata": {},
   "outputs": [
    {
     "name": "stdout",
     "output_type": "stream",
     "text": [
      "What is 2 + 2 ? <Press Enter to Submit>:3\n",
      "Incorrect\n"
     ]
    }
   ],
   "source": [
    "answer = int(input('What is 2 + 2 ? <Press Enter to Submit>:'))\n",
    "\n",
    "if answer == 4:\n",
    "    print('Correct!')\n",
    "else:\n",
    "    print('Incorrect')"
   ]
  },
  {
   "cell_type": "markdown",
   "metadata": {},
   "source": [
    "Try running the above code but giving it the wrong answer.  *How do you think it works?*\n",
    "\n",
    "The `if` and `else` statements above follow a very specific pattern.  After the `if` we give a **condition** which is just a fancy way of saying a statement that is either `True` or `False`.  When the statement is true the following indented line(s) are run.  When the statement is false the code after the `else` runs instead.\n",
    "\n",
    "### IMPORTANT:  INDENTATION MATTERS\n",
    "Python uses the indentation to tell which lines go together.  So only the indented lines immediately after an `if` will run when the condition is `True`.  \n",
    "\n",
    "**But what if we have more conditions to test for?**"
   ]
  },
  {
   "cell_type": "code",
   "execution_count": 6,
   "metadata": {},
   "outputs": [
    {
     "name": "stdout",
     "output_type": "stream",
     "text": [
      "What is 2 + 2 ? <Press Enter to Submit>:2\n",
      "Incorrect - Too Low!\n"
     ]
    }
   ],
   "source": [
    "answer = int(input('What is 2 + 2 ? <Press Enter to Submit>:'))\n",
    "\n",
    "if answer == 4:\n",
    "    print('Correct!')\n",
    "elif answer > 4:\n",
    "    print('Incorrect - Too High!')\n",
    "else:\n",
    "    print('Incorrect - Too Low!')\n"
   ]
  },
  {
   "cell_type": "markdown",
   "metadata": {},
   "source": [
    "`elif` lets us test for another **condition** when the previous one is `False`.  The `else` statement only runs when all previous `if` and `elif` conditions are `False`.  "
   ]
  },
  {
   "cell_type": "markdown",
   "metadata": {},
   "source": [
    "## Activity\n",
    "\n",
    "The code block below a variable called `symbols` which contains a bunch of special characters that aren't letters and numbers. \n",
    "\n",
    "Write some code that prints \"Even\" if the number of symbols is even and \"Odd\" if the it is odd.  \n",
    "\n",
    "***HINT***:  Remember the `len()` function! "
   ]
  },
  {
   "cell_type": "code",
   "execution_count": 9,
   "metadata": {},
   "outputs": [
    {
     "name": "stdout",
     "output_type": "stream",
     "text": [
      "!\"#$%&'()*+,-./:;<=>?@[\\]^_`{|}~\n"
     ]
    }
   ],
   "source": [
    "import string\n",
    "\n",
    "symbols = string.punctuation\n"
   ]
  }
 ],
 "metadata": {
  "kernelspec": {
   "display_name": "Python 3",
   "language": "python",
   "name": "python3"
  },
  "language_info": {
   "codemirror_mode": {
    "name": "ipython",
    "version": 3
   },
   "file_extension": ".py",
   "mimetype": "text/x-python",
   "name": "python",
   "nbconvert_exporter": "python",
   "pygments_lexer": "ipython3",
   "version": "3.6.4"
  }
 },
 "nbformat": 4,
 "nbformat_minor": 2
}

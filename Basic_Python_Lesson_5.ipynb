{
 "cells": [
  {
   "cell_type": "markdown",
   "metadata": {},
   "source": [
    "# Lesson 5 - Loops\n",
    "\n",
    "Computers are really good at doing things over and over again.  In programming we use **loops** to make this happen. \n",
    "\n",
    "In Python, there are two different types of loops:  `for` and `while`. \n",
    "\n",
    "\n",
    "## For Loops\n",
    "\n",
    "Remember from our prior lesson that **lists** can contain many things.  We call each of the things in a list an **element**. A `for` loop lets us do something for each element in a list (or other similar **data types**). "
   ]
  },
  {
   "cell_type": "code",
   "execution_count": 6,
   "metadata": {},
   "outputs": [
    {
     "name": "stdout",
     "output_type": "stream",
     "text": [
      "Bob Smith\n",
      "Jane Smith\n",
      "Ella Smith\n",
      "Julie Smith\n"
     ]
    }
   ],
   "source": [
    "names = ['Bob', 'Jane', 'Ella', 'Julie']\n",
    "last_name = 'Smith'\n",
    "\n",
    "for name in names:\n",
    "    full_name = name + ' ' + last_name\n",
    "    print(full_name)"
   ]
  },
  {
   "cell_type": "markdown",
   "metadata": {},
   "source": [
    "*So what just happened?!*  Let's go line by line: \n",
    "\n",
    "```python\n",
    "names = ['Bob', 'Jane', 'Ella', 'Julie']\n",
    "last_name = 'Smith'\n",
    "```\n",
    "We set two variables, `names` being a **list of strings** and another string  called `last_name`.\n",
    "\n",
    "```python\n",
    "for name in names:\n",
    "```\n",
    "This introduces our `for` loop.  It tells the computer that we want to loop over `names` (our list) and each **element** in the list we're going to call `name`.  \n",
    "\n",
    "```python\n",
    "full_name = name + ' ' + last_name\n",
    "```\n",
    "Now we're inside the loop.  This line will run **for each element in the list** (4 times). The first time through, `name` will be 'Bob'. `last_name` is always 'Smith', so `full_name` is now 'Bob Smith'.\n",
    "\n",
    "```python\n",
    "print(full_name)\n",
    "```\n",
    "This just prints whatever `full_name` is currently assigned.  \n",
    "\n",
    "***NOW FOR THE MAGIC***\n",
    "\n",
    "The loop will completely restart but this time `name` will be our next **element** in the list:  'Jane'.  Python will keep doing this until its looped through all the items in the list!"
   ]
  },
  {
   "cell_type": "markdown",
   "metadata": {},
   "source": [
    "## Activity\n",
    "\n",
    "The code cell has a list with numbers in it.  Try to write some code that adds 100 to each number in the list and prints it out! "
   ]
  },
  {
   "cell_type": "code",
   "execution_count": null,
   "metadata": {},
   "outputs": [],
   "source": [
    "# Add your code below\n",
    "numbers = [20, 30, 40, 50]\n"
   ]
  }
 ],
 "metadata": {
  "kernelspec": {
   "display_name": "Python 3",
   "language": "python",
   "name": "python3"
  },
  "language_info": {
   "codemirror_mode": {
    "name": "ipython",
    "version": 3
   },
   "file_extension": ".py",
   "mimetype": "text/x-python",
   "name": "python",
   "nbconvert_exporter": "python",
   "pygments_lexer": "ipython3",
   "version": "3.6.4"
  }
 },
 "nbformat": 4,
 "nbformat_minor": 2
}

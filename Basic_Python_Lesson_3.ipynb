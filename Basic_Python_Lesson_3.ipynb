{
 "cells": [
  {
   "cell_type": "markdown",
   "metadata": {},
   "source": [
    "#  Lesson 3 - Logic\n",
    "\n",
    "From our previous lessons, we've worked to understand different **data types** such as numbers, strings, and lists.  But what if we want to compare them to one another?  \n",
    "\n",
    "## Comparison\n",
    "\n",
    "Python has **comparison operators** to help us solve this problem:\n",
    "\n",
    "+    `==` Tests if two values are **equal**\n",
    "+    `>`  Tests is the left value is **greater** than the right\n",
    "+    `<` Tests is the left value is **less** than the right\n",
    "\n",
    "``` Python\n",
    "# Examples\n",
    "1 == 1        #=> True\n",
    "1 < 1         #=> False\n",
    "1 > 2         #=> True\n",
    "2 + 2 == 4    #=> True\n",
    "```\n",
    "\n",
    "Lets try it out! \n"
   ]
  },
  {
   "cell_type": "code",
   "execution_count": null,
   "metadata": {},
   "outputs": [],
   "source": [
    "problem = 50 + 50\n",
    "my_guess = 100\n",
    "print(problem == my_guess)\n",
    "\n",
    "problem = 25 + 30\n",
    "my_guess = 50\n",
    "print(problem == my_guess)"
   ]
  },
  {
   "cell_type": "markdown",
   "metadata": {},
   "source": [
    "`True` and `False` are special **keywords** in Python.  For now we can just think of `True` as meaning *correct* and `False` as *incorrect*.   "
   ]
  },
  {
   "cell_type": "markdown",
   "metadata": {},
   "source": [
    "## AND / OR\n",
    "\n",
    "If we want to combine more than one statement we can use the `and` and `or` operators.  \n",
    "\n",
    "```python\n",
    "1 > 2 and 4 > 5     # This is clealy True\n",
    "1 > 2 or 5 < 4      # This is also True\n",
    "```\n",
    "\n",
    "The `and` operator will return `True` if **BOTH** statements are `True`, otherwise it returns `False`.  \n",
    "\n",
    "The `or` operator will return `True` if **one** or **both** of the statements is `True`.  This is also known as an **inclusive OR**.\n",
    "\n"
   ]
  },
  {
   "cell_type": "code",
   "execution_count": 4,
   "metadata": {},
   "outputs": [
    {
     "name": "stdout",
     "output_type": "stream",
     "text": [
      "True\n"
     ]
    }
   ],
   "source": []
  },
  {
   "cell_type": "markdown",
   "metadata": {},
   "source": [
    "## Activity\n",
    "\n",
    "Write some Python using **comparison operators** to answer the following questions:\n",
    "\n",
    "1.    Is 1000 x 1000 **greater than** 800 x 1200 ?\n",
    "2.    Is 464 x 10 **less than**  6000 ?\n",
    "3.    Is 1,356,789 + 20 **equal to** 2,000,100 - 643,291"
   ]
  },
  {
   "cell_type": "code",
   "execution_count": null,
   "metadata": {},
   "outputs": [],
   "source": [
    "# Write your code here! \n",
    "# Problem 1\n",
    "\n",
    "\n",
    "# Problem 2\n",
    "\n",
    "\n",
    "# Problem 3\n",
    "\n"
   ]
  }
 ],
 "metadata": {
  "kernelspec": {
   "display_name": "Python 3",
   "language": "python",
   "name": "python3"
  },
  "language_info": {
   "codemirror_mode": {
    "name": "ipython",
    "version": 3
   },
   "file_extension": ".py",
   "mimetype": "text/x-python",
   "name": "python",
   "nbconvert_exporter": "python",
   "pygments_lexer": "ipython3",
   "version": "3.6.4"
  }
 },
 "nbformat": 4,
 "nbformat_minor": 2
}

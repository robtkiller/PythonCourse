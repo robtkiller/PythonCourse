{
  "nbformat": 4,
  "nbformat_minor": 0,
  "metadata": {
    "colab": {
      "name": "Basic_Python_Lesson_1.ipynb",
      "provenance": [],
      "collapsed_sections": [],
      "toc_visible": true
    },
    "kernelspec": {
      "name": "python3",
      "display_name": "Python 3"
    }
  },
  "cells": [
    {
      "cell_type": "markdown",
      "metadata": {
        "id": "gDD6MR24HyN-",
        "colab_type": "text"
      },
      "source": [
        "# **Lesson 1** - Variables\n",
        "\n",
        "Now that we know how to run our Python code, we can start learning to do more than just print messages!  \n",
        "\n",
        "In Python (and many other languages), we can store information (data) in things we call **variables**.  To assign data to the variable, we use the `=`. \n"
      ]
    },
    {
      "cell_type": "code",
      "metadata": {
        "id": "ke4gy7VKI5Tk",
        "colab_type": "code",
        "colab": {}
      },
      "source": [
        "my_string = 'This is a string of text! It can be as long as we want'\n",
        "\n",
        "# Now we can use the variable instead to print our message\n",
        "print(my_string)\n"
      ],
      "execution_count": 0,
      "outputs": []
    },
    {
      "cell_type": "markdown",
      "metadata": {
        "id": "mEy_h2NtKL1A",
        "colab_type": "text"
      },
      "source": [
        "If our information is **text** we call it a **string**.  We can tell Python that we want a string by using quotation marks (`' '` or `\" \"`)\n",
        "\n",
        "But variables can store all sorts of the things!  And depending on what they are, we can do different things with them.\n"
      ]
    },
    {
      "cell_type": "code",
      "metadata": {
        "id": "dgcjKUP-Gr6n",
        "colab_type": "code",
        "colab": {}
      },
      "source": [
        "# We can store numbers.\n",
        "my_number = 2\n",
        "three = 3 \n",
        "\n",
        "# We can do math with our numbers and store the result another variable\n",
        "answer = my_number + three\n",
        "print(answer)"
      ],
      "execution_count": 0,
      "outputs": []
    },
    {
      "cell_type": "code",
      "metadata": {
        "id": "z2l2jBhbK3Tu",
        "colab_type": "code",
        "colab": {}
      },
      "source": [
        "# But what if we try to add strings...\n",
        "my_string = 'Half of my heart is in Havana...'\n",
        "your_string = 'oooh na na!'\n",
        "\n",
        "answer = my_string + your_string\n",
        "print(answer)"
      ],
      "execution_count": 0,
      "outputs": []
    },
    {
      "cell_type": "markdown",
      "metadata": {
        "id": "C9TXCYPVM_DP",
        "colab_type": "text"
      },
      "source": [
        "If we try to add strings together, it combines them into a single variable! Interesting...**operations** can change depending on the types of variables we're using.\n",
        "\n",
        "What about other **math operations** using numbers?"
      ]
    },
    {
      "cell_type": "code",
      "metadata": {
        "id": "o1WSPHTrNzCH",
        "colab_type": "code",
        "colab": {}
      },
      "source": [
        "# We can do Subtraction...\n",
        "a = 10\n",
        "b = 2\n",
        "print(a - b)\n",
        "\n",
        "# Multiplication...\n",
        "print(a * b)\n",
        "\n",
        "# and Division\n",
        "print(a / b)\n"
      ],
      "execution_count": 0,
      "outputs": []
    },
    {
      "cell_type": "markdown",
      "metadata": {
        "id": "FMCuM_L-QEgs",
        "colab_type": "text"
      },
      "source": [
        "**IMPORTANT**: Notice in the above code that we only assigned our variables (`a` and `b`) one time at the beginning.  This means we can **reuse** our variables without having to rewrite them.  \n",
        "\n",
        "But what happens when we use the same variable name twice?"
      ]
    },
    {
      "cell_type": "code",
      "metadata": {
        "id": "Sc94PqRyR1Vx",
        "colab_type": "code",
        "colab": {}
      },
      "source": [
        "a = 10\n",
        "a = 20\n",
        "print(a)"
      ],
      "execution_count": 0,
      "outputs": []
    },
    {
      "cell_type": "markdown",
      "metadata": {
        "id": "9TI1NRORRuJP",
        "colab_type": "text"
      },
      "source": [
        "It only used our last assignment (20)!  So setting the same variable name replaces the previous value.  "
      ]
    },
    {
      "cell_type": "markdown",
      "metadata": {
        "id": "NBWdOGdfPpA9",
        "colab_type": "text"
      },
      "source": [
        "# Activity \n",
        "Write some Python to calculate the answers to the following math problems:\n",
        "\n",
        "\n",
        "1.   1000 X 500\n",
        "2.   1000 + 500\n",
        "3.   1000 ÷ 500\n",
        "4.   1000 - 500\n",
        "\n",
        "**Print** your answers out and try to **reuse** your variables!\n",
        "\n",
        "**BONUS**: Try writing your own math problems and find out the answers.  Go crazy!"
      ]
    },
    {
      "cell_type": "code",
      "metadata": {
        "id": "O0BEx2WZOmUA",
        "colab_type": "code",
        "colab": {}
      },
      "source": [
        "# Activity Code Goes Here!\n",
        "\n",
        "# Problem 1: \n",
        "\n",
        "\n",
        "# Problem 2:\n",
        "\n",
        "\n",
        "# Problem 3:\n",
        "\n",
        "\n",
        "# Problem 4: \n",
        "\n"
      ],
      "execution_count": 0,
      "outputs": []
    }
  ]
}